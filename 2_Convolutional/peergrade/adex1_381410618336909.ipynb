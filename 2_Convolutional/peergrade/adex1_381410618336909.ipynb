{
 "cells": [
  {
   "cell_type": "markdown",
   "metadata": {
    "colab_type": "text",
    "id": "cOzKrBKaYS2E"
   },
   "source": [
    "# Credits\n",
    "\n",
    "This is heavily influenced from https://github.com/pytorch/tutorials"
   ]
  },
  {
   "cell_type": "markdown",
   "metadata": {
    "colab_type": "text",
    "id": "b4AbHeM8YS2L"
   },
   "source": [
    "# CIFAR-10\n",
    "\n",
    "In thins notebook you need to put what you have learned into practice, and create your own convolutional classifier for the CIFAR-10 dataset.\n",
    "\n",
    "It has the classes: ‘airplane’, ‘automobile’, ‘bird’, ‘cat’, ‘deer’, ‘dog’, ‘frog’, ‘horse’, ‘ship’, ‘truck’.\n",
    "The images in CIFAR-10 are of size 3x32x32, i.e. 3-channel color images of 32x32 pixels in size.\n",
    "\n",
    "![cifar10](../static_files/cifar10.png)\n",
    "\n",
    "\n",
    "In order to train a classifier the following steps needs to be performed:\n",
    "\n",
    "1. Load and normalizing the CIFAR10 training and test datasets using\n",
    "   ``torchvision``\n",
    "2. Define a Convolutional Neural Network\n",
    "3. Define a loss function\n",
    "4. Train the network on the training data\n",
    "5. Test the network on the test data\n",
    "\n",
    "We will help you along the way.\n",
    "We indicate the places you need to modify the code with `# Your code here!`.\n",
    "It is however a good idea to read the entire assignment before you begin coding!"
   ]
  },
  {
   "cell_type": "markdown",
   "metadata": {
    "colab_type": "text",
    "id": "JUI2w749YS2R"
   },
   "source": [
    "## 1. Loading and normalizing CIFAR10\n",
    "\n",
    "Using ``torchvision``, it’s extremely easy to load CIFAR10."
   ]
  },
  {
   "cell_type": "code",
   "execution_count": 0,
   "metadata": {
    "colab": {},
    "colab_type": "code",
    "id": "B99aoqjFYS2a"
   },
   "outputs": [],
   "source": [
    "%matplotlib inline\n",
    "import matplotlib.pyplot as plt\n",
    "import numpy as np\n",
    "\n",
    "import torch\n",
    "import torchvision\n",
    "import torchvision.transforms as transforms"
   ]
  },
  {
   "cell_type": "markdown",
   "metadata": {
    "colab_type": "text",
    "id": "_nLJ-d-VYS2z"
   },
   "source": [
    "The output of torchvision datasets are PILImage images of range [0, 1].\n",
    "We transform them to Tensors of normalized range [-1, 1]\n",
    "\n",
    "**NB** Modify the code below to only use a small part of the dataset if your computer is very slow."
   ]
  },
  {
   "cell_type": "code",
   "execution_count": 0,
   "metadata": {
    "colab": {},
    "colab_type": "code",
    "id": "FSzaAqCnYS23",
    "outputId": "a07c4528-7dbb-4689-c30a-07643c807772"
   },
   "outputs": [
    {
     "name": "stdout",
     "output_type": "stream",
     "text": [
      "Files already downloaded and verified\n",
      "Files already downloaded and verified\n",
      "\n",
      "used classes: ['cat', 'dog']\n"
     ]
    }
   ],
   "source": [
    "transform = transforms.Compose(\n",
    "    [transforms.ToTensor(),\n",
    "     transforms.Normalize((0.5, 0.5, 0.5),\n",
    "                          (0.5, 0.5, 0.5))]\n",
    ")\n",
    "\n",
    "# Load dataset\n",
    "trainset = torchvision.datasets.CIFAR10(root='./data', train=True,\n",
    "                                        download=True, transform=transform)\n",
    "testset = torchvision.datasets.CIFAR10(root='./data', train=False,\n",
    "                                       download=True, transform=transform)\n",
    "print()\n",
    "\n",
    "classes = ('plane', 'car', 'bird', 'cat', 'deer',\n",
    "           'dog', 'frog', 'horse', 'ship', 'truck')\n",
    "\n",
    "used_categories = range(len(classes))\n",
    "\n",
    "## USE CODE BELOW IF YOUR COMPUTER IS TOO SLOW\n",
    "reduce_dataset = True\n",
    "if reduce_dataset:\n",
    "    used_categories = (3, 5) # cats and dogs\n",
    "\n",
    "    classes = [classes[i] for i in used_categories]\n",
    "    new_train_data = []\n",
    "    new_train_labels = []\n",
    "\n",
    "    new_test_data = []\n",
    "    new_test_labels = []\n",
    "    for i, t in enumerate(used_categories):\n",
    "        new_train_data.append(trainset.train_data[np.where(np.array(trainset.train_labels) == t)])\n",
    "        new_train_labels += [i for _ in range(new_train_data[-1].shape[0])]\n",
    "\n",
    "        new_test_data.append(testset.test_data[np.where(np.array(testset.test_labels) == t)])\n",
    "        new_test_labels += [i for _ in range(new_test_data[-1].shape[0])]\n",
    "\n",
    "    new_train_data = np.concatenate(new_train_data, 0)\n",
    "    trainset.train_data = new_train_data\n",
    "    trainset.train_labels = new_train_labels\n",
    "\n",
    "    new_test_data = np.concatenate(new_test_data, 0)\n",
    "    testset.test_data = new_test_data\n",
    "    testset.test_labels = new_test_labels\n",
    "\n",
    "    \n",
    "trainloader = torch.utils.data.DataLoader(trainset, batch_size=4,\n",
    "                                          shuffle=True, num_workers=2)\n",
    "testloader = torch.utils.data.DataLoader(testset, batch_size=4,\n",
    "                                         shuffle=True, num_workers=2)\n",
    "train_data_iter = iter(trainloader)\n",
    "test_data_iter = iter(testloader)\n",
    "print('used classes:', classes)"
   ]
  },
  {
   "cell_type": "code",
   "execution_count": 0,
   "metadata": {
    "colab": {},
    "colab_type": "code",
    "id": "2Geor4AvYS3T",
    "outputId": "d1534673-411b-4504-9a24-dab264347456"
   },
   "outputs": [
    {
     "name": "stdout",
     "output_type": "stream",
     "text": [
      "Training data\n",
      "(10000, 32, 32, 3)\n",
      "10000\n",
      "\n",
      "Test data\n",
      "(2000, 32, 32, 3)\n",
      "2000\n",
      "\n"
     ]
    }
   ],
   "source": [
    "print(\"Training data\")\n",
    "print(trainset.train_data.shape)\n",
    "print(len(trainset.train_labels))\n",
    "print()\n",
    "\n",
    "print(\"Test data\")\n",
    "print(testset.test_data.shape)\n",
    "print(len(testset.test_labels))\n",
    "print()\n"
   ]
  },
  {
   "cell_type": "markdown",
   "metadata": {
    "colab_type": "text",
    "id": "k0dO4EBhYS3n"
   },
   "source": [
    "Let us show some of the training images, for fun.\n",
    "\n"
   ]
  },
  {
   "cell_type": "code",
   "execution_count": 0,
   "metadata": {
    "colab": {},
    "colab_type": "code",
    "id": "HWOj4NOWYS3r",
    "outputId": "da8f655c-ee10-4284-ed0a-fe3f7c7603c4"
   },
   "outputs": [
    {
     "name": "stdout",
     "output_type": "stream",
     "text": [
      "  dog   cat   cat   dog\n"
     ]
    },
    {
     "data": {
      "image/png": "[encoded data removed]",
      "text/plain": [
       "<Figure size 432x288 with 1 Axes>"
      ]
     },
     "metadata": {
      "tags": []
     },
     "output_type": "display_data"
    }
   ],
   "source": [
    "# Run this cell multiple time to see more samples\n",
    "\n",
    "def imshow(img):\n",
    "    \"\"\" show an image \"\"\"\n",
    "    img = img / 2 + 0.5 # unnormalize\n",
    "    npimg = img.numpy()\n",
    "    plt.imshow(np.transpose(npimg, (1, 2, 0)))\n",
    "\n",
    "# get some random training images\n",
    "images, labels = train_data_iter.next()\n",
    "\n",
    "# show images\n",
    "imshow(torchvision.utils.make_grid(images))\n",
    "\n",
    "# print labels\n",
    "print(' '.join('%5s' % classes[labels[j]] for j in range(4)))"
   ]
  },
  {
   "cell_type": "markdown",
   "metadata": {
    "colab_type": "text",
    "id": "tikL06ecYS39"
   },
   "source": [
    "## 2. Define a Convolutional Neural Network\n",
    "\n",
    "**Assignment 1:** Define a convolutional neural network. \n",
    "You may use the code from previous notebooks.\n",
    "We suggest that you start with a small network, and make sure that everything is working.\n",
    "Once you can train successfully come back and improve the architecture"
   ]
  },
  {
   "cell_type": "code",
   "execution_count": 0,
   "metadata": {
    "colab": {},
    "colab_type": "code",
    "id": "ki5twAJuYS4B"
   },
   "outputs": [],
   "source": [
    "# ANSWER TO ASSIGNMENT 1 - I start by defining hyperparameters:\n",
    "from torch.autograd import Variable\n",
    "import torch.nn as nn\n",
    "import torch.nn.functional as F\n",
    "from torch.nn.parameter import Parameter\n",
    "import torch.optim as optim\n",
    "import torch.nn.init as init\n",
    "\n",
    "from torch.nn import Linear, Conv2d, BatchNorm2d, MaxPool2d, Dropout2d\n",
    "from torch.nn.functional import relu, elu, relu6, sigmoid, tanh, softmax\n",
    "\n",
    "filt0 = 6 # \"original value\"\n",
    "filt1 = 16 # 'original value, and also for Assignment 4 to improve performance\n",
    "filt2 = 26 # for Assignment 4 to improve performance\n",
    "kernel_size = 5"
   ]
  },
  {
   "cell_type": "code",
   "execution_count": 0,
   "metadata": {
    "colab": {},
    "colab_type": "code",
    "id": "pdWak9VKYS4d",
    "outputId": "dc433d6f-bffa-4b57-d888-f3fb000cd6bd"
   },
   "outputs": [
    {
     "name": "stdout",
     "output_type": "stream",
     "text": [
      "Net(\n",
      "  (conv1): Conv2d(3, 16, kernel_size=(5, 5), stride=(1, 1))\n",
      "  (pool): MaxPool2d(kernel_size=2, stride=2, padding=0, dilation=1, ceil_mode=False)\n",
      "  (conv2): Conv2d(16, 26, kernel_size=(5, 5), stride=(1, 1))\n",
      "  (fc1): Linear(in_features=650, out_features=120, bias=True)\n",
      "  (fc2): Linear(in_features=120, out_features=84, bias=True)\n",
      "  (fc3): Linear(in_features=84, out_features=10, bias=True)\n",
      ")\n"
     ]
    }
   ],
   "source": [
    "def compute_conv_dim(dim_size):\n",
    "    return int((dim_size - kernel_size_conv1 + 2 * padding_conv1) / stride_conv1 + 1)\n",
    "\n",
    "# Define network - I have designed a network with 2 convolutional layers (and two pooling layers after each conv. layer) \n",
    "# followed by 3 fully connected layers resulting in 10 features as output:\n",
    "\n",
    "class Net(nn.Module):\n",
    "    def __init__(self, num_classes):\n",
    "        super(Net, self).__init__()\n",
    "        self.num_classes = num_classes\n",
    "        \n",
    "        self.conv1 = nn.Conv2d(3, filt1, kernel_size, stride=1) \n",
    "        # Input (3 channels because RGB), output (how many filters we want to apply), kernel size, stride, padding\n",
    "        self.pool = nn.MaxPool2d(2, 2)\n",
    "        self.conv2 = nn.Conv2d(filt1, filt2, kernel_size, stride=1) # For Assignment 4, where I try to improve the network\n",
    "        \n",
    "        self.fc1 = nn.Linear(filt2 * kernel_size * kernel_size, 120)\n",
    "        self.fc2 = nn.Linear(120, 84)\n",
    "        self.fc3 = nn.Linear(84, 10) # Ten features as output after third fully connected layer\n",
    "        \n",
    "    \n",
    "    def forward(self, x):\n",
    "        x = self.pool(F.relu(self.conv1(x)))\n",
    "        x = self.pool(F.relu(self.conv2(x)))       \n",
    "\n",
    "        x = x.view(-1, filt2 * kernel_size * kernel_size)\n",
    "        x = F.relu(self.fc1(x))\n",
    "        x = F.relu(self.fc2(x))\n",
    "        x = self.fc3(x)\n",
    "        return x\n",
    "    \n",
    "\n",
    "net = Net(len(used_categories))\n",
    "print(net)\n"
   ]
  },
  {
   "cell_type": "markdown",
   "metadata": {
    "colab_type": "text",
    "id": "e16xpBG4YS46"
   },
   "source": [
    "## 3. Define a Loss function and optimizer\n",
    "\n",
    "**Assignment 2:** Implement the criterion and optimizer. \n",
    "We suggest Classification Cross-Entropy loss and SGD with momentum.\n",
    "You might need to experiment a bit with the learning rate."
   ]
  },
  {
   "cell_type": "code",
   "execution_count": 0,
   "metadata": {
    "colab": {},
    "colab_type": "code",
    "id": "Kd4UuieXYS4_"
   },
   "outputs": [],
   "source": [
    "import torch.optim as optim\n",
    "\n",
    "# ANSWER:\n",
    "criterion = nn.CrossEntropyLoss()  # Cross-Entropy loss criterion added\n",
    "optimizer = optim.SGD(net.parameters(), lr=0.001, momentum=0.9) # SGD with momentum of 0.9 is added"
   ]
  },
  {
   "cell_type": "markdown",
   "metadata": {
    "colab_type": "text",
    "id": "xjH8iF0aYS5m"
   },
   "source": [
    "## 4. Train the network\n",
    "\n",
    "**Assignment 3:** Finish the training loop below. \n",
    "Start by using a small number of epochs (e.g. 3).\n",
    "Even with a low number of epochs you should be able to see results that are better than chance.\n",
    "When everything is working increase the number of epochs to find out how good your network really is."
   ]
  },
  {
   "cell_type": "code",
   "execution_count": 0,
   "metadata": {
    "colab": {},
    "colab_type": "code",
    "id": "cvvfSA_yYS6H",
    "outputId": "e29947b8-faef-461e-c0d4-64caa019b85d"
   },
   "outputs": [
    {
     "name": "stderr",
     "output_type": "stream",
     "text": [
      "C:\\ProgramData\\Anaconda3\\lib\\site-packages\\ipykernel_launcher.py:24: UserWarning: invalid index of a 0-dim tensor. This will be an error in PyTorch 0.5. Use tensor.item() to convert a 0-dim tensor to a Python number\n"
     ]
    },
    {
     "name": "stdout",
     "output_type": "stream",
     "text": [
      "[1,  1000] loss: 0.880\n",
      "[1,  2000] loss: 0.709\n",
      "[2,  1000] loss: 0.685\n",
      "[2,  2000] loss: 0.665\n",
      "[3,  1000] loss: 0.632\n",
      "[3,  2000] loss: 0.636\n",
      "[4,  1000] loss: 0.615\n",
      "[4,  2000] loss: 0.599\n",
      "[5,  1000] loss: 0.589\n",
      "[5,  2000] loss: 0.563\n",
      "[6,  1000] loss: 0.549\n",
      "[6,  2000] loss: 0.549\n",
      "[7,  1000] loss: 0.522\n",
      "[7,  2000] loss: 0.524\n",
      "[8,  1000] loss: 0.494\n",
      "[8,  2000] loss: 0.501\n",
      "[9,  1000] loss: 0.475\n",
      "[9,  2000] loss: 0.484\n",
      "[10,  1000] loss: 0.458\n",
      "[10,  2000] loss: 0.454\n",
      "Finished Training\n"
     ]
    }
   ],
   "source": [
    "#num_epoch = 3  #ANSWER - Number of epochs is set to 3\n",
    "num_epoch = 10  #ANSWER - Number of epochs is set to 10 to try to achieve better results\n",
    "\n",
    "for epoch in range(num_epoch):  # loop over the dataset multiple times\n",
    "\n",
    "    running_loss = 0.0\n",
    "    for i, data in enumerate(trainloader, 0):\n",
    "        # get the inputs\n",
    "        inputs, labels = data\n",
    "\n",
    "        # wrap them in Variable\n",
    "        inputs, labels = Variable(inputs), Variable(labels)\n",
    "\n",
    "        # zero the parameter gradients\n",
    "        optimizer.zero_grad() # ANSWER\n",
    "\n",
    "        # forward + backward + optimize\n",
    "        outputs = net(inputs) # ANSWER\n",
    "        loss = criterion(outputs, labels) # ANSWER\n",
    "        loss.backward() # ANSWER\n",
    "        optimizer.step() # ANSWER\n",
    "\n",
    "        # print statistics\n",
    "        running_loss += loss.data[0]\n",
    "        if i % 1000 == 999:    # print every 1000 mini-batches\n",
    "            print('[%d, %5d] loss: %.3f' %\n",
    "                  (epoch + 1, i + 1, running_loss / 1000))\n",
    "            running_loss = 0.0\n",
    "\n",
    "print('Finished Training')"
   ]
  },
  {
   "cell_type": "markdown",
   "metadata": {
    "colab_type": "text",
    "id": "QRD1C_xnYS6m"
   },
   "source": [
    "## 5. Test the network on the test data\n",
    "\n",
    "Now we need to check if the network has learnt anything at all.\n",
    "We will check this by predicting the class label that the neural network outputs, and checking it against the ground truth.\n",
    "If the prediction is correct, we add the sample to the list of correct predictions.\n",
    "\n",
    "Okay, first step. Let us display an image from the test set to get familiar."
   ]
  },
  {
   "cell_type": "code",
   "execution_count": 0,
   "metadata": {
    "colab": {},
    "colab_type": "code",
    "id": "X8ESAYMXYS6r",
    "outputId": "37737f04-8ed4-4243-fd1e-10d0e43cc119"
   },
   "outputs": [
    {
     "data": {
      "image/png": "[encoded data removed]",
      "text/plain": [
       "<Figure size 432x288 with 1 Axes>"
      ]
     },
     "metadata": {
      "tags": []
     },
     "output_type": "display_data"
    },
    {
     "name": "stdout",
     "output_type": "stream",
     "text": [
      "GroundTruth:     dog   dog   dog   cat\n",
      "Predicted:       dog   dog   cat   dog\n"
     ]
    }
   ],
   "source": [
    "images, labels = test_data_iter.next()\n",
    "\n",
    "# print images\n",
    "imshow(torchvision.utils.make_grid(images))\n",
    "plt.show()\n",
    "\n",
    "print('GroundTruth:  ', ' '.join('%5s' % classes[labels[j]] for j in range(4)))\n",
    "\n",
    "_, predicted = torch.max(outputs.data, 1)\n",
    "print('Predicted:    ', ' '.join('%5s' % classes[predicted[j]] for j in range(4)))"
   ]
  },
  {
   "cell_type": "markdown",
   "metadata": {
    "colab_type": "text",
    "id": "5euZe507YS7D"
   },
   "source": [
    "Let us look at how the network performs on the whole dataset."
   ]
  },
  {
   "cell_type": "code",
   "execution_count": 0,
   "metadata": {
    "colab": {},
    "colab_type": "code",
    "id": "ysyCd8-OYS7G",
    "outputId": "8a1a979d-9a9f-4285-80f9-06bc1b553c8f"
   },
   "outputs": [
    {
     "name": "stdout",
     "output_type": "stream",
     "text": [
      "Accuracy of the network on the 2000 test images: 74.00 %\n"
     ]
    }
   ],
   "source": [
    "correct = 0\n",
    "total = 0\n",
    "\n",
    "for data in testloader:\n",
    "    images, labels = data\n",
    "    outputs = net(Variable(images))\n",
    "    _, predicted = torch.max(outputs.data, 1)\n",
    "    total += labels.size(0)\n",
    "    correct += (predicted == labels).sum()\n",
    "\n",
    "print('Accuracy of the network on the {} test images: {:4.2f} %'.format(\n",
    "    testset.test_data.shape[0], 100 * correct / total))"
   ]
  },
  {
   "cell_type": "markdown",
   "metadata": {
    "colab_type": "text",
    "id": "0t2jAkz5YS7V"
   },
   "source": [
    "Hopefully the network is better than chance, which is $\\frac{1}{\\text{number of classes}}$ accuracy (randomly picking\n",
    "a class).\n",
    "\n",
    "\n",
    "We can also examine which class the network found the most difficult (makes more sense if you have many clases):"
   ]
  },
  {
   "cell_type": "code",
   "execution_count": 0,
   "metadata": {
    "colab": {},
    "colab_type": "code",
    "id": "mJU47pIZYS7Y",
    "outputId": "9bb50562-bb7e-4edc-91e1-f2c6a4f09035"
   },
   "outputs": [
    {
     "name": "stdout",
     "output_type": "stream",
     "text": [
      "Accuracy of cat   : 73.30 %\n",
      "Accuracy of dog   : 74.90 %\n"
     ]
    }
   ],
   "source": [
    "class_total = list(0. for i in range(len(classes)))\n",
    "class_correct = list(0. for i in range(len(classes)))\n",
    "\n",
    "for data in testloader:\n",
    "    images, labels = data\n",
    "    outputs = net(Variable(images))\n",
    "    _, predicted = torch.max(outputs.data, 1)\n",
    "    c = (predicted == labels).squeeze()\n",
    "    \n",
    "    for i in range(len(c)):\n",
    "        label = labels[i]\n",
    "        class_correct[label] += c[i].numpy()\n",
    "        class_total[label] += 1\n",
    "\n",
    "for i in range(len(classes)):\n",
    "    print('Accuracy of {:5s} : {:5.2f} %'.format(\n",
    "        classes[i], 100 * class_correct[i] / class_total[i]))"
   ]
  },
  {
   "cell_type": "markdown",
   "metadata": {
    "colab_type": "text",
    "id": "ehwBqeTOYS7p"
   },
   "source": [
    "**Assignment 4:** \n",
    "** 1. Go back and improve performance of the network. **\n",
    " * If you are using all 10 classes you should get a test accuracy above 55%, but see how much further you can get it!\n",
    " * If you are using only 2 classes (e.g. cat and dog) you should get a test accuracy above 60%, but see how much further you can get it!\n",
    "\n",
    "**Answer:**\n",
    "First I tried to achieve better results by altering the training: I now used 10 epochs instead of only 3, which decreased the loss and increased the accuracy:\n",
    "\n",
    "Accuracy (3 epochs): 64%\n",
    "of cat: 70.70%\n",
    "of dog 58.70%\n",
    "\n",
    "Accuracy (using 10 epochs): 71%\n",
    "of cat: 73.30%\n",
    "of dog: 69.80%\n",
    "\n",
    "Then I tried to change the network itself by changing the number of filters (channels) from 6 to 16 for the first conv. layer, and from 16 to 26 for the second conv. layer, and achieved:\n",
    "\n",
    "Accuracy (using 3 epochs and increasing no. of filters): 67%\n",
    "of cat: 67.90%\n",
    "of dog: 66.50%\n",
    "\n",
    "This is a little higher overall accuracy, than when only using fewer filters and 3 epochs. But it can be seen that the accuracy of cats actually lowered.\n",
    "\n",
    "Accuracy (using 10 epochs and increasing no. of filters): 74%\n",
    "of cat: 73.30%\n",
    "of dog: 74.90%\n",
    "\n",
    "This is the highest overall accuracy, so my brief conclusion is that number of epochs and inmproving the network both influences the accuracy very positively.\n",
    "\n",
    "** 2. Briefly describe what you did and any experiments you did along the way as well as what results you obtained.\n",
    "Did anything surprise you during the exercise? **\n",
    "\n",
    "**Answer:**\n",
    "See above for different \"tests\".\n",
    "\n",
    "I also tried changing the number of output features from the last fully connected layer to 2 instead of 10, which dramatically lowered the accuracy. I also tried having a learning rate of 0.1, which also decreased the accuracy.\n",
    "\n",
    "\n",
    "** 3. Write down key lessons/insights you got (if any) during this exercise.**\n",
    "\n",
    "**Answer:** \n",
    " * Key lesson was that more compute power (more epochs and more filters) gives much better results.\n",
    " * When designing the network it is very important to keep track of dimensions!"
   ]
  },
  {
   "cell_type": "markdown",
   "metadata": {
    "colab_type": "text",
    "id": "GMCFsUpRYS7t"
   },
   "source": [
    "# Training on GPU\n",
    "\n",
    "I DO NOT HAVE A GPU\n",
    "\n",
    "**Optional Assignment:**\n",
    "If you have a GPU we suggest that you try and rewrite the code above to run on the GPU\n",
    "___\n",
    "\n",
    "Just like how you transfer a Tensor on to the GPU, you transfer the neural net onto the GPU.\n",
    "This will recursively go over all modules and convert their parameters and buffers to CUDA tensors:\n",
    "\n",
    "```\n",
    "    net.cuda()\n",
    "```\n",
    "\n",
    "Remember that you will have to send the inputs and targets at every step to the GPU too:\n",
    "\n",
    "```\n",
    "    inputs, labels = Variable(inputs.cuda()), Variable(labels.cuda())\n",
    "```\n",
    "\n",
    "Why dont I notice MASSIVE speedup compared to CPU? \n",
    "Because your network is realllly small.\n",
    "\n",
    "**Exercise:** Try increasing the width of your network (argument 2 of\n",
    "the first ``nn.Conv2d``, and argument 1 of the second ``nn.Conv2d`` –\n",
    "they need to be the same number), see what kind of speedup you get.\n",
    "\n",
    "**Goals achieved**:\n",
    "\n",
    "- Understanding PyTorch's Tensor library and neural networks at a high level.\n",
    "- Train a small neural network to classify images\n",
    "\n",
    "\n"
   ]
  },
  {
   "cell_type": "markdown",
   "metadata": {
    "colab_type": "text",
    "id": "fpd7Aq1xYS71"
   },
   "source": [
    "# Michael Nielsen book exercise of own choice\n",
    "\n",
    "**Assignment 5:** Pick an exercise of own choice from [Michael Nielsens book](http://neuralnetworksanddeeplearning.com/)\n",
    "\n",
    "# Answer to Exercise 1 from Chapter 2\n",
    "\n",
    "**Exercise description: Prove equations BP3 and BP4 (back propagation).**\n",
    "\n",
    "BP3 is given as: $\\frac{\\partial C}{\\partial b_{j}^l} = \\delta_{j}^l$ and describes the rate of change of the cost with respect to any **bias** in the network.\n",
    "\n",
    "BP4 is given as: $\\frac{\\partial C}{\\partial w_{jk}^l} = a^{l-1}_{k}\\delta_{j}^l$ and describes the rate of change of the cost with respect to any **weight** in the network.\n",
    "\n",
    "\n",
    "**Exercise solution for BP3:**\n",
    "Using the chain rule as suggested in the book, the partial derivative in BP3 can be re-expressed in terms of partial derivatives with respect to the bias term (b) as: $\\frac{\\partial C}{\\partial b_{j}^l} = \\frac{\\partial C}{\\partial z_{j}^l} \\frac{\\partial z_{j}^l}{\\partial b_{j}^l}$.\n",
    "\n",
    "We know from equation 29 (in Chapter 2) that we have a definition for the error of neuron j in layer l $\\delta_{j}^l$:\n",
    "\n",
    "$ \\delta_{j}^l = \\frac{\\partial C}{\\partial z_{j}^{l}}$.  \n",
    "\n",
    "We also know that when $z = wa+b$, $\\frac{\\partial z_{j}^l}{\\partial b_{j}^l} = 1$. When inserting this in the chain rule expression, we get that:\n",
    "$\\frac{\\partial C}{\\partial b_{j}^l} = \\frac{\\partial C}{\\partial z_{j}^l} \\frac{\\partial z_{j}^l}{\\partial b_{j}^l} = \\delta_{j}^l \\cdot 1$ which is the same as stated in BP3.\n",
    "\n",
    "\n",
    "**Exercise solution for BP4:**\n",
    "Again, we use the chain rule on the expression for BP4 to re-express the partial derivative with respect to the weight w:\n",
    "\n",
    "$\\frac{\\partial C}{\\partial w_{jk}^l} = \\frac{\\partial C}{\\partial z_{j}^l} \\frac{\\partial z_{j}^l}{\\partial w_{jk}^l}$.\n",
    "\n",
    "We know when differentaiting $z_{j}^l = a^{l}_k\\cdot w_{jk}^l + b$ with respect to the weight, we can derive $\\frac{\\partial z_{j}^l}{\\partial w_{jk}^l} = a^{l-1}_{k}$, and have the same definition for $ \\delta_{j}^l$ from eq. 29 as used in BP3, and we get:\n",
    "\n",
    "$\\frac{\\partial C}{\\partial w_{jk}^l} = \\frac{\\partial C}{\\partial z_{j}^l} \\frac{\\partial z_{j}^l}{\\partial w_{jk}^l} =  \\delta_{j}^l \\cdot a^{l-1}_{k} $\n",
    "\n",
    "which is BP4.\n",
    "\n",
    "\n",
    "\n",
    "\n",
    "\n"
   ]
  },
  {
   "cell_type": "code",
   "execution_count": 0,
   "metadata": {
    "colab": {},
    "colab_type": "code",
    "id": "U86fGhi7YS75"
   },
   "outputs": [],
   "source": []
  }
 ],
 "metadata": {
  "colab": {
   "name": "381410618336909.ipynb",
   "provenance": [],
   "version": "0.3.2"
  },
  "kernelspec": {
   "display_name": "Python 3",
   "language": "python",
   "name": "python3"
  },
  "language_info": {
   "codemirror_mode": {
    "name": "ipython",
    "version": 3
   },
   "file_extension": ".py",
   "mimetype": "text/x-python",
   "name": "python",
   "nbconvert_exporter": "python",
   "pygments_lexer": "ipython3",
   "version": "3.6.5"
  }
 },
 "nbformat": 4,
 "nbformat_minor": 1
}
