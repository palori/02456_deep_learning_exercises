{
 "cells": [
  {
   "cell_type": "markdown",
   "metadata": {},
   "source": [
    "# Credits\n",
    "\n",
    "This is heavily influenced or copied from https://github.com/pytorch/tutorials"
   ]
  },
  {
   "cell_type": "markdown",
   "metadata": {},
   "source": [
    "# What is PyTorch?\n",
    "\n",
    "> **NOTE** In the last part of this lab cuda is used. If you have a cuda enabled machine, read the README.md in the root of this repo on how to use nvidia-docker.\n",
    "\n",
    "\n",
    "It’s a Python based scientific computing package targeted at two sets of\n",
    "audiences:\n",
    "-  A replacement for numpy to use the power of GPUs\n",
    "-  a deep learning research platform that provides maximum flexibility\n",
    "   and speed\n"
   ]
  },
  {
   "cell_type": "markdown",
   "metadata": {},
   "source": [
    "# Getting Started\n",
    "\n",
    "In this lab you will get a quick start on what pytorch is and how to use it.\n",
    "\n",
    "## 1. Tensors\n",
    "\n",
    "Tensors are similar to numpy’s ndarrays, with the addition being that\n",
    "Tensors can also be used on a GPU to accelerate computing."
   ]
  },
  {
   "cell_type": "code",
   "execution_count": 1,
   "metadata": {},
   "outputs": [],
   "source": [
    "import torch"
   ]
  },
  {
   "cell_type": "markdown",
   "metadata": {},
   "source": [
    "Construct a 5x3 matrix, uninitialized"
   ]
  },
  {
   "cell_type": "code",
   "execution_count": 2,
   "metadata": {
    "scrolled": false
   },
   "outputs": [
    {
     "name": "stdout",
     "output_type": "stream",
     "text": [
      "tensor([[8.2420e-02, 3.0649e-41, 5.7453e-44],\n",
      "        [0.0000e+00,        nan, 3.0649e-41],\n",
      "        [1.3733e-14, 6.4076e+07, 2.0706e-19],\n",
      "        [7.3909e+22, 2.4176e-12, 1.1625e+33],\n",
      "        [8.9605e-01, 1.1632e+33, 5.6003e-02]])\n"
     ]
    }
   ],
   "source": [
    "x = torch.Tensor(5, 3)\n",
    "print(x)"
   ]
  },
  {
   "cell_type": "markdown",
   "metadata": {},
   "source": [
    "Construct a randomly initialized matrix"
   ]
  },
  {
   "cell_type": "code",
   "execution_count": 3,
   "metadata": {},
   "outputs": [
    {
     "name": "stdout",
     "output_type": "stream",
     "text": [
      "tensor([[0.2610, 0.4119, 0.4956],\n",
      "        [0.1221, 0.3850, 0.9886],\n",
      "        [0.2016, 0.6913, 0.3527],\n",
      "        [0.6617, 0.5302, 0.9165],\n",
      "        [0.8259, 0.9979, 0.7040]])\n"
     ]
    }
   ],
   "source": [
    "x = torch.rand(5, 3)\n",
    "print(x)"
   ]
  },
  {
   "cell_type": "markdown",
   "metadata": {},
   "source": [
    "Get its size"
   ]
  },
  {
   "cell_type": "code",
   "execution_count": 4,
   "metadata": {},
   "outputs": [
    {
     "name": "stdout",
     "output_type": "stream",
     "text": [
      "torch.Size([5, 3])\n"
     ]
    }
   ],
   "source": [
    "print(x.size())"
   ]
  },
  {
   "cell_type": "markdown",
   "metadata": {},
   "source": [
    "**NOTE** `torch.Size` is in fact a tuple, so it supports the same operations"
   ]
  },
  {
   "cell_type": "code",
   "execution_count": 5,
   "metadata": {},
   "outputs": [
    {
     "name": "stdout",
     "output_type": "stream",
     "text": [
      "tensor([[0.2610, 0.4119, 0.4956],\n",
      "        [2.0000, 2.0000, 2.0000],\n",
      "        [2.0000, 2.0000, 2.0000],\n",
      "        [0.6617, 0.5302, 0.9165],\n",
      "        [0.8259, 0.9979, 0.7040]])\n"
     ]
    }
   ],
   "source": [
    "x[1:3] = 2\n",
    "print(x)"
   ]
  },
  {
   "cell_type": "markdown",
   "metadata": {},
   "source": [
    "# Assignment\n",
    "\n",
    "1. Make a tensor of size (2, 17)\n",
    "2. Make a torch.FloatTensor of size (3, 1)\n",
    "3. Make a torch.LongTensor of size (5, 2, 1)\n",
    "  - fill the entire tensor with 7s\n",
    "4. Make a torch.ByteTensor of size (5,)\n",
    "  - fill the middle 3 indices with ones such that it records [0, 1, 1, 1, 0]"
   ]
  },
  {
   "cell_type": "code",
   "execution_count": 6,
   "metadata": {},
   "outputs": [
    {
     "name": "stdout",
     "output_type": "stream",
     "text": [
      "\n",
      "t0 = \n",
      "tensor([[7.9981e-02, 3.0649e-41, 6.8664e-44, 7.8473e-44, 6.3058e-44, 6.7262e-44,\n",
      "         7.9874e-44, 6.3058e-44, 6.7262e-44, 7.5670e-44, 1.1771e-43, 6.8664e-44,\n",
      "         7.0065e-44, 8.1275e-44, 6.8664e-44, 6.7262e-44, 8.1275e-44],\n",
      "        [6.7262e-44, 6.7262e-44, 6.4460e-44, 7.7071e-44, 7.8473e-44, 7.8473e-44,\n",
      "         7.9874e-44, 7.9874e-44, 7.7071e-44, 1.2612e-43, 2.7300e-06, 2.6225e-09,\n",
      "         1.3296e+22, 3.2507e+21, 5.3178e-08, 2.0179e-43, 0.0000e+00]])\n",
      "\n",
      "t1 = \n",
      "tensor([[9.6120e-02],\n",
      "        [3.0649e-41],\n",
      "        [1.4013e-45]])\n",
      "\n",
      "t2 = \n",
      "tensor([[[7],\n",
      "         [7]],\n",
      "\n",
      "        [[7],\n",
      "         [7]],\n",
      "\n",
      "        [[7],\n",
      "         [7]],\n",
      "\n",
      "        [[7],\n",
      "         [7]],\n",
      "\n",
      "        [[7],\n",
      "         [7]]])\n",
      "\n",
      "t3 = \n",
      "tensor([ 32,   1,   1,   1, 112], dtype=torch.uint8)\n"
     ]
    }
   ],
   "source": [
    "t0 = torch.Tensor(2,17)\n",
    "print(\"\\nt0 = \")\n",
    "print(t0)\n",
    "\n",
    "t1 = torch.FloatTensor(3,1)\n",
    "print(\"\\nt1 = \")\n",
    "print(t1)\n",
    "\n",
    "t2 = torch.LongTensor(5,2,1)\n",
    "t2[0:5] = 7\n",
    "print(\"\\nt2 = \")\n",
    "print(t2)\n",
    "\n",
    "t3 = torch.ByteTensor(5,)\n",
    "t3[1:4] = 1\n",
    "print(\"\\nt3 = \")\n",
    "print(t3)"
   ]
  },
  {
   "cell_type": "markdown",
   "metadata": {},
   "source": [
    "## 2. Operations\n",
    "There are multiple syntaxes for operations. Let's see addition as an example:\n",
    "\n",
    "### 2.1 Addition: syntax 1"
   ]
  },
  {
   "cell_type": "code",
   "execution_count": 7,
   "metadata": {},
   "outputs": [
    {
     "name": "stdout",
     "output_type": "stream",
     "text": [
      "tensor([[0.7924, 0.8378, 1.0696],\n",
      "        [2.1737, 2.7997, 2.5821],\n",
      "        [2.3826, 2.6479, 2.3631],\n",
      "        [1.6119, 1.0327, 1.7985],\n",
      "        [1.2505, 1.0455, 1.4417]])\n"
     ]
    }
   ],
   "source": [
    "y = torch.rand(5, 3)\n",
    "print(x + y)"
   ]
  },
  {
   "cell_type": "markdown",
   "metadata": {},
   "source": [
    "### 2.2 Addition: syntax 2"
   ]
  },
  {
   "cell_type": "code",
   "execution_count": 8,
   "metadata": {},
   "outputs": [
    {
     "name": "stdout",
     "output_type": "stream",
     "text": [
      "tensor([[0.7924, 0.8378, 1.0696],\n",
      "        [2.1737, 2.7997, 2.5821],\n",
      "        [2.3826, 2.6479, 2.3631],\n",
      "        [1.6119, 1.0327, 1.7985],\n",
      "        [1.2505, 1.0455, 1.4417]])\n"
     ]
    }
   ],
   "source": [
    "print(torch.add(x, y))"
   ]
  },
  {
   "cell_type": "markdown",
   "metadata": {},
   "source": [
    "### 2.3 Addition: giving an output tensor"
   ]
  },
  {
   "cell_type": "code",
   "execution_count": 9,
   "metadata": {},
   "outputs": [
    {
     "name": "stdout",
     "output_type": "stream",
     "text": [
      "tensor([[0.7924, 0.8378, 1.0696],\n",
      "        [2.1737, 2.7997, 2.5821],\n",
      "        [2.3826, 2.6479, 2.3631],\n",
      "        [1.6119, 1.0327, 1.7985],\n",
      "        [1.2505, 1.0455, 1.4417]])\n"
     ]
    }
   ],
   "source": [
    "result = torch.Tensor(5, 3)\n",
    "torch.add(x, y, out=result)\n",
    "print(result)"
   ]
  },
  {
   "cell_type": "markdown",
   "metadata": {},
   "source": [
    "### 2.4 Addition: in-place\n",
    "\n",
    "adds `x`to `y`"
   ]
  },
  {
   "cell_type": "code",
   "execution_count": 10,
   "metadata": {},
   "outputs": [
    {
     "name": "stdout",
     "output_type": "stream",
     "text": [
      "tensor([[0.7924, 0.8378, 1.0696],\n",
      "        [2.1737, 2.7997, 2.5821],\n",
      "        [2.3826, 2.6479, 2.3631],\n",
      "        [1.6119, 1.0327, 1.7985],\n",
      "        [1.2505, 1.0455, 1.4417]])\n"
     ]
    }
   ],
   "source": [
    "y.add_(x)\n",
    "print(y)"
   ]
  },
  {
   "cell_type": "markdown",
   "metadata": {},
   "source": [
    "**NOTE** Any operation that mutates a tensor in-place is post-fixed with an `_`. For example: `x.copy_(y)`, `x.t_()`, will change `x`."
   ]
  },
  {
   "cell_type": "markdown",
   "metadata": {},
   "source": [
    "You can use standard numpy-like indexing with all bells and whistles!"
   ]
  },
  {
   "cell_type": "code",
   "execution_count": 11,
   "metadata": {},
   "outputs": [
    {
     "name": "stdout",
     "output_type": "stream",
     "text": [
      "tensor([[0.2610, 0.4119, 0.4956],\n",
      "        [2.0000, 2.0000, 2.0000],\n",
      "        [2.0000, 2.0000, 2.0000],\n",
      "        [0.6617, 0.5302, 0.9165],\n",
      "        [0.8259, 0.9979, 0.7040]])\n",
      "tensor([0.4956, 2.0000, 2.0000, 0.9165, 0.7040])\n"
     ]
    }
   ],
   "source": [
    "print(x)\n",
    "print(x[:, 2])"
   ]
  },
  {
   "cell_type": "markdown",
   "metadata": {},
   "source": [
    "**Read later** 100+ Tensor operations, including transposing, indexing, slicing, mathematical operations, linear algebra, random numbers, etc are described here <http://pytorch.org/docs/torch>"
   ]
  },
  {
   "cell_type": "markdown",
   "metadata": {},
   "source": [
    "# Assignment\n",
    "\n",
    "1. multiply of two tensors (see [torch.Tensor.mul](http://pytorch.org/docs/master/tensors.html#torch.Tensor.mul))\n",
    "2. do the same, but inplace\n",
    "3. division of two tensors (see [torch.Tensor.div](http://pytorch.org/docs/master/tensors.html#torch.Tensor.div))\n",
    "4. perform a matrix multiplication of two tensors of size (2, 4) and (4, 2)"
   ]
  },
  {
   "cell_type": "code",
   "execution_count": 12,
   "metadata": {},
   "outputs": [
    {
     "name": "stdout",
     "output_type": "stream",
     "text": [
      "\n",
      "Multiply\n",
      "tensor([[0.2610, 0.4119, 0.4956],\n",
      "        [2.0000, 2.0000, 2.0000],\n",
      "        [2.0000, 2.0000, 2.0000],\n",
      "        [0.6617, 0.5302, 0.9165],\n",
      "        [0.8259, 0.9979, 0.7040]])\n",
      "tensor([[0.2610, 0.4119, 0.4956],\n",
      "        [2.0000, 2.0000, 2.0000],\n",
      "        [2.0000, 2.0000, 2.0000],\n",
      "        [0.6617, 0.5302, 0.9165],\n",
      "        [0.8259, 0.9979, 0.7040]])\n",
      "tensor([[ 1.3052,  2.0595,  2.4778],\n",
      "        [10.0000, 10.0000, 10.0000],\n",
      "        [10.0000, 10.0000, 10.0000],\n",
      "        [ 3.3087,  2.6512,  4.5825],\n",
      "        [ 4.1293,  4.9894,  3.5198]])\n",
      "\n",
      "Multiply inplace\n",
      "tensor([[0.2610, 0.4119, 0.4956],\n",
      "        [2.0000, 2.0000, 2.0000],\n",
      "        [2.0000, 2.0000, 2.0000],\n",
      "        [0.6617, 0.5302, 0.9165],\n",
      "        [0.8259, 0.9979, 0.7040]])\n",
      "tensor([[ 1.3052,  2.0595,  2.4778],\n",
      "        [10.0000, 10.0000, 10.0000],\n",
      "        [10.0000, 10.0000, 10.0000],\n",
      "        [ 3.3087,  2.6512,  4.5825],\n",
      "        [ 4.1293,  4.9894,  3.5198]])\n",
      "tensor([[ 1.3052,  2.0595,  2.4778],\n",
      "        [10.0000, 10.0000, 10.0000],\n",
      "        [10.0000, 10.0000, 10.0000],\n",
      "        [ 3.3087,  2.6512,  4.5825],\n",
      "        [ 4.1293,  4.9894,  3.5198]])\n"
     ]
    }
   ],
   "source": [
    "print(\"\\nMultiply\")\n",
    "print(x)\n",
    "x1 = x.mul(5)\n",
    "print(x)\n",
    "print(x1)\n",
    "\n",
    "print(\"\\nMultiply inplace\")\n",
    "print(x)\n",
    "x1 = x.mul_(5)\n",
    "print(x)\n",
    "print(x1)"
   ]
  },
  {
   "cell_type": "code",
   "execution_count": 13,
   "metadata": {},
   "outputs": [
    {
     "name": "stdout",
     "output_type": "stream",
     "text": [
      "\n",
      "Division\n",
      "tensor([[ 1.3052,  2.0595,  2.4778],\n",
      "        [10.0000, 10.0000, 10.0000],\n",
      "        [10.0000, 10.0000, 10.0000],\n",
      "        [ 3.3087,  2.6512,  4.5825],\n",
      "        [ 4.1293,  4.9894,  3.5198]])\n",
      "tensor([[ 1.3052,  2.0595,  2.4778],\n",
      "        [10.0000, 10.0000, 10.0000],\n",
      "        [10.0000, 10.0000, 10.0000],\n",
      "        [ 3.3087,  2.6512,  4.5825],\n",
      "        [ 4.1293,  4.9894,  3.5198]])\n",
      "tensor([[0.2610, 0.4119, 0.4956],\n",
      "        [2.0000, 2.0000, 2.0000],\n",
      "        [2.0000, 2.0000, 2.0000],\n",
      "        [0.6617, 0.5302, 0.9165],\n",
      "        [0.8259, 0.9979, 0.7040]])\n",
      "\n",
      "Division inplace\n",
      "tensor([[ 1.3052,  2.0595,  2.4778],\n",
      "        [10.0000, 10.0000, 10.0000],\n",
      "        [10.0000, 10.0000, 10.0000],\n",
      "        [ 3.3087,  2.6512,  4.5825],\n",
      "        [ 4.1293,  4.9894,  3.5198]])\n",
      "tensor([[0.2610, 0.4119, 0.4956],\n",
      "        [2.0000, 2.0000, 2.0000],\n",
      "        [2.0000, 2.0000, 2.0000],\n",
      "        [0.6617, 0.5302, 0.9165],\n",
      "        [0.8259, 0.9979, 0.7040]])\n",
      "tensor([[0.2610, 0.4119, 0.4956],\n",
      "        [2.0000, 2.0000, 2.0000],\n",
      "        [2.0000, 2.0000, 2.0000],\n",
      "        [0.6617, 0.5302, 0.9165],\n",
      "        [0.8259, 0.9979, 0.7040]])\n"
     ]
    }
   ],
   "source": [
    "print(\"\\nDivision\")\n",
    "print(x)\n",
    "x1 = x.div(5)\n",
    "print(x)\n",
    "print(x1)\n",
    "\n",
    "print(\"\\nDivision inplace\")\n",
    "print(x)\n",
    "x1 = x.div_(5)\n",
    "print(x)\n",
    "print(x1)"
   ]
  },
  {
   "cell_type": "code",
   "execution_count": 19,
   "metadata": {},
   "outputs": [
    {
     "name": "stdout",
     "output_type": "stream",
     "text": [
      "tensor([[0.7817, 0.7659, 0.3439, 0.8273],\n",
      "        [0.3955, 0.5185, 0.4513, 0.8827]])\n",
      "tensor([[0.0902, 0.0598],\n",
      "        [0.6270, 0.7385],\n",
      "        [0.1141, 0.4009],\n",
      "        [0.7268, 0.3499]])\n",
      "tensor([[1.1912, 1.0396],\n",
      "        [1.0539, 0.8964]])\n",
      "tensor([[0.0941, 0.1001, 0.0580, 0.1274],\n",
      "        [0.7822, 0.8631, 0.5489, 1.1706],\n",
      "        [0.2477, 0.2952, 0.2201, 0.4482],\n",
      "        [0.7066, 0.7381, 0.4079, 0.9102]])\n"
     ]
    }
   ],
   "source": [
    "x1 = torch.rand(2,4)\n",
    "print(x1)\n",
    "x2 = torch.rand(4,2)\n",
    "print(x2)\n",
    "x3 = x1.matmul(x2)\n",
    "print(x3)\n",
    "x4 = x2.matmul(x1)\n",
    "print(x4)"
   ]
  },
  {
   "cell_type": "markdown",
   "metadata": {},
   "source": [
    "## 3. Numpy Bridge\n",
    "\n",
    "Converting a torch Tensor to a numpy array and vice versa is a breeze.\n",
    "\n",
    "The torch Tensor and numpy array will share their underlying memory locations, and changing one will change the other.\n",
    "\n",
    "### 3.1 Converting torch Tensor to numpy Array"
   ]
  },
  {
   "cell_type": "code",
   "execution_count": 20,
   "metadata": {},
   "outputs": [
    {
     "name": "stdout",
     "output_type": "stream",
     "text": [
      "tensor([1., 1., 1., 1., 1.])\n"
     ]
    }
   ],
   "source": [
    "a = torch.ones(5)\n",
    "print(a)"
   ]
  },
  {
   "cell_type": "code",
   "execution_count": 21,
   "metadata": {},
   "outputs": [
    {
     "name": "stdout",
     "output_type": "stream",
     "text": [
      "[1. 1. 1. 1. 1.]\n"
     ]
    }
   ],
   "source": [
    "b = a.numpy()\n",
    "print(b)"
   ]
  },
  {
   "cell_type": "markdown",
   "metadata": {},
   "source": [
    "See how the numpy array changed in value."
   ]
  },
  {
   "cell_type": "code",
   "execution_count": 22,
   "metadata": {},
   "outputs": [
    {
     "name": "stdout",
     "output_type": "stream",
     "text": [
      "tensor([2., 2., 2., 2., 2.])\n",
      "[2. 2. 2. 2. 2.]\n"
     ]
    }
   ],
   "source": [
    "a.add_(1)\n",
    "print(a)\n",
    "print(b)"
   ]
  },
  {
   "cell_type": "markdown",
   "metadata": {},
   "source": [
    "### 3.2 Converting numpy Array to torch Tensor\n",
    "\n",
    "See how changing the np array changed the torch Tensor automatically"
   ]
  },
  {
   "cell_type": "code",
   "execution_count": 26,
   "metadata": {},
   "outputs": [
    {
     "name": "stdout",
     "output_type": "stream",
     "text": [
      "[2. 2. 2. 2. 2.]\n",
      "tensor([2., 2., 2., 2., 2.], dtype=torch.float64)\n"
     ]
    }
   ],
   "source": [
    "import numpy as np\n",
    "a = np.ones(5)\n",
    "b = torch.from_numpy(a)\n",
    "np.add(a, 1, out=a)\n",
    "print(a)\n",
    "print(b)"
   ]
  },
  {
   "cell_type": "markdown",
   "metadata": {},
   "source": [
    "# Assignment\n",
    "\n",
    "1. create a tensor of size (5, 2) containing ones\n",
    "2. now convert it to a numpy array\n",
    "3. now convert it back to a torch tensor"
   ]
  },
  {
   "cell_type": "code",
   "execution_count": 28,
   "metadata": {},
   "outputs": [
    {
     "name": "stdout",
     "output_type": "stream",
     "text": [
      "tensor([[1., 1.],\n",
      "        [1., 1.],\n",
      "        [1., 1.],\n",
      "        [1., 1.],\n",
      "        [1., 1.]])\n",
      "[[1. 1.]\n",
      " [1. 1.]\n",
      " [1. 1.]\n",
      " [1. 1.]\n",
      " [1. 1.]]\n",
      "tensor([[1., 1.],\n",
      "        [1., 1.],\n",
      "        [1., 1.],\n",
      "        [1., 1.],\n",
      "        [1., 1.]])\n",
      "tensor([[2., 2.],\n",
      "        [2., 2.],\n",
      "        [2., 2.],\n",
      "        [2., 2.],\n",
      "        [2., 2.]])\n",
      "[[2. 2.]\n",
      " [2. 2.]\n",
      " [2. 2.]\n",
      " [2. 2.]\n",
      " [2. 2.]]\n",
      "tensor([[2., 2.],\n",
      "        [2., 2.],\n",
      "        [2., 2.],\n",
      "        [2., 2.],\n",
      "        [2., 2.]])\n"
     ]
    }
   ],
   "source": [
    "y1 = torch.ones(5,2)\n",
    "y2 = y1.numpy()\n",
    "y3 = torch.from_numpy(y2)\n",
    "\n",
    "print(y1)\n",
    "print(y2)\n",
    "print(y3)\n",
    "\n",
    "y1.add_(1)\n",
    "\n",
    "print(y1)\n",
    "print(y2)\n",
    "print(y3)"
   ]
  },
  {
   "cell_type": "markdown",
   "metadata": {},
   "source": [
    "All the Tensors on the CPU except a CharTensor support converting to NumPy and back.\n",
    "\n",
    "## 4 CUDA Tensors\n",
    "\n",
    "Tensors can be moved onto GPU using the `.cuda` function.\n",
    "This is not necessary, but check the `README.md` for details on how to use a GPU with docker."
   ]
  },
  {
   "cell_type": "code",
   "execution_count": 29,
   "metadata": {},
   "outputs": [
    {
     "name": "stdout",
     "output_type": "stream",
     "text": [
      "CUDA not available on your machie.\n"
     ]
    }
   ],
   "source": [
    "# let us run this cell only if CUDA is available\n",
    "if torch.cuda.is_available():\n",
    "    x = x.cuda()\n",
    "    y = y.cuda()\n",
    "    z = x + y\n",
    "    # notice that the tensors are now of type torch.cuda.FloatTensor (notice the cuda in there)\n",
    "    # this is meant as a tensor to be run on the GPU.\n",
    "    # the .cuda() does this to any parameter it is applied to\n",
    "    print(x)\n",
    "    print(y)\n",
    "    print(z)\n",
    "else:\n",
    "    print(\"CUDA not available on your machie.\")"
   ]
  },
  {
   "cell_type": "code",
   "execution_count": null,
   "metadata": {},
   "outputs": [],
   "source": []
  }
 ],
 "metadata": {
  "kernelspec": {
   "display_name": "Python 3",
   "language": "python",
   "name": "python3"
  },
  "language_info": {
   "codemirror_mode": {
    "name": "ipython",
    "version": 3
   },
   "file_extension": ".py",
   "mimetype": "text/x-python",
   "name": "python",
   "nbconvert_exporter": "python",
   "pygments_lexer": "ipython3",
   "version": "3.6.5"
  }
 },
 "nbformat": 4,
 "nbformat_minor": 2
}
